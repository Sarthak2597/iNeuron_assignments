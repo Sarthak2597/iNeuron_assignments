{
 "cells": [
  {
   "cell_type": "markdown",
   "id": "20a44b8e",
   "metadata": {},
   "source": [
    "1. Write a Python Program to Display Fibonacci Sequence Using Recursion?"
   ]
  },
  {
   "cell_type": "code",
   "execution_count": 4,
   "id": "98433d98",
   "metadata": {},
   "outputs": [
    {
     "name": "stdout",
     "output_type": "stream",
     "text": [
      "Enter a valid positive number: 20\n",
      "Fibonacci sequence for the first 20 terms is :\n",
      "0\n",
      "1\n",
      "1\n",
      "2\n",
      "3\n",
      "5\n",
      "8\n",
      "13\n",
      "21\n",
      "34\n",
      "55\n",
      "89\n",
      "144\n",
      "233\n",
      "377\n",
      "610\n",
      "987\n",
      "1597\n",
      "2584\n",
      "4181\n"
     ]
    }
   ],
   "source": [
    "def fib(n):\n",
    "    if n <= 1:\n",
    "        return n\n",
    "    else:\n",
    "        return(fib(n-1) + fib(n-2))\n",
    "\n",
    "try:\n",
    "    terms = int(input(\"Enter a valid positive number: \"))\n",
    "except Exception as e:\n",
    "    print(\"Plese enter a positive integer\")\n",
    "else:\n",
    "    print(\"Fibonacci sequence for the first {} terms is :\".format(terms))\n",
    "    for i in range(terms):\n",
    "        print(fib(i))"
   ]
  },
  {
   "cell_type": "markdown",
   "id": "c48b674f",
   "metadata": {},
   "source": [
    "2. Write a Python Program to Find Factorial of Number Using Recursion?"
   ]
  },
  {
   "cell_type": "code",
   "execution_count": 6,
   "id": "35c2bfa6",
   "metadata": {},
   "outputs": [
    {
     "name": "stdout",
     "output_type": "stream",
     "text": [
      "Enter a valid positive number: 6\n",
      "Factorial of 6 is :\n",
      "720\n"
     ]
    }
   ],
   "source": [
    "def fact(n):\n",
    "    if n <= 2:\n",
    "        return n\n",
    "    else:\n",
    "        return(n * fact(n-1))\n",
    "    \n",
    "try:\n",
    "    terms = int(input(\"Enter a valid positive number: \"))\n",
    "except Exception as e:\n",
    "    print(\"Plese enter a positive integer\")\n",
    "else:\n",
    "    print(\"Factorial of {} is :\".format(terms))\n",
    "print(fact(terms))"
   ]
  },
  {
   "cell_type": "markdown",
   "id": "93644288",
   "metadata": {},
   "source": [
    "3. Write a Python Program to calculate your Body Mass Index?"
   ]
  },
  {
   "cell_type": "code",
   "execution_count": 8,
   "id": "5cdaae27",
   "metadata": {},
   "outputs": [
    {
     "name": "stdout",
     "output_type": "stream",
     "text": [
      "Enter your height in meters: 1.75\n",
      "Enter you weight in kgs: 70\n",
      "Your BMI is: 22.857142857142858\n"
     ]
    }
   ],
   "source": [
    "bmi = lambda height,weight : (weight/(height*height))\n",
    "try:\n",
    "    h = float(input(\"Enter your height in meters: \"))\n",
    "    w = float(input(\"Enter you weight in kgs: \"))\n",
    "    print(\"Your BMI is: {}\".format(bmi(h,w)))\n",
    "except Exception as e:\n",
    "    print(e)"
   ]
  },
  {
   "cell_type": "markdown",
   "id": "50cdea97",
   "metadata": {},
   "source": [
    "4. Write a Python Program to calculate the natural logarithm of any number?"
   ]
  },
  {
   "cell_type": "code",
   "execution_count": 11,
   "id": "89b1396d",
   "metadata": {},
   "outputs": [
    {
     "name": "stdout",
     "output_type": "stream",
     "text": [
      "Enter a positive number: 2\n",
      "The natural log of 2.0 is 0.6931471805599453\n"
     ]
    }
   ],
   "source": [
    "import numpy as np\n",
    "\n",
    "ln = lambda x: np.log(x)\n",
    "try:\n",
    "    num = float(input(\"Enter a positive number: \"))\n",
    "    print(\"The natural log of {} is\".format(num), ln(num))\n",
    "except Exception as e:\n",
    "    print(\"Invalid input\")"
   ]
  },
  {
   "cell_type": "markdown",
   "id": "b41c866f",
   "metadata": {},
   "source": [
    "5. Write a Python Program for cube sum of first n natural numbers?"
   ]
  },
  {
   "cell_type": "code",
   "execution_count": 19,
   "id": "7916ea2e",
   "metadata": {},
   "outputs": [
    {
     "name": "stdout",
     "output_type": "stream",
     "text": [
      "Enter a number: 4\n",
      "The cube sum of first 4 natural numbers is  100\n"
     ]
    }
   ],
   "source": [
    "class operation:\n",
    "    def __init__(self, n):\n",
    "        self.n = n\n",
    "        \n",
    "    def add(self, l):\n",
    "        self.l = l\n",
    "        return sum(self.l)\n",
    "    \n",
    "    def cube(self):\n",
    "        lis = []\n",
    "        for i in range(1, self.n+1):\n",
    "            lis.append(i**3)\n",
    "        return lis\n",
    "    \n",
    "num = int(input(\"Enter a number: \"))\n",
    "o = operation(num)\n",
    "print(\"The cube sum of first {} natural numbers is \".format(num) ,o.add(o.cube()))"
   ]
  },
  {
   "cell_type": "code",
   "execution_count": null,
   "id": "7c307424",
   "metadata": {},
   "outputs": [],
   "source": []
  }
 ],
 "metadata": {
  "kernelspec": {
   "display_name": "Python 3",
   "language": "python",
   "name": "python3"
  },
  "language_info": {
   "codemirror_mode": {
    "name": "ipython",
    "version": 3
   },
   "file_extension": ".py",
   "mimetype": "text/x-python",
   "name": "python",
   "nbconvert_exporter": "python",
   "pygments_lexer": "ipython3",
   "version": "3.9.4"
  }
 },
 "nbformat": 4,
 "nbformat_minor": 5
}
