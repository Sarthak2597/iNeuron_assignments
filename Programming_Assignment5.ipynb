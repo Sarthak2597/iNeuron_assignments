{
 "cells": [
  {
   "cell_type": "markdown",
   "id": "c191c5f4",
   "metadata": {},
   "source": [
    "1. Write a Python Program to Find LCM?"
   ]
  },
  {
   "cell_type": "code",
   "execution_count": 3,
   "id": "e82c0974",
   "metadata": {},
   "outputs": [
    {
     "name": "stdout",
     "output_type": "stream",
     "text": [
      "Enter an integer: 12\n",
      "Enter another integer: 14\n",
      "The LCM of 12 and 14 is  84\n"
     ]
    }
   ],
   "source": [
    "class factor:\n",
    "    def __init__(self, x, y):\n",
    "        self.x = x\n",
    "        self.y = y\n",
    "        \n",
    "    def compute_lcm(self):\n",
    "        if self.x > self.y:\n",
    "            greater = self.x\n",
    "        else:\n",
    "            greater = self.y\n",
    "            \n",
    "        while(True):\n",
    "            if (greater % self.x == 0) and (greater % self.y == 0):\n",
    "                lcm = greater\n",
    "                break\n",
    "            greater = greater + 1\n",
    "                \n",
    "        return lcm\n",
    "    \n",
    "a = int(input(\"Enter an integer: \"))\n",
    "b = int(input(\"Enter another integer: \"))\n",
    "\n",
    "c = factor(a,b)\n",
    "\n",
    "print(\"The LCM of {} and {} is \".format(a,b), c.compute_lcm())\n",
    "        "
   ]
  },
  {
   "cell_type": "markdown",
   "id": "8fda9596",
   "metadata": {},
   "source": [
    "2. Write a Python Program to Find HCF?"
   ]
  },
  {
   "cell_type": "code",
   "execution_count": 5,
   "id": "d9653727",
   "metadata": {},
   "outputs": [
    {
     "name": "stdout",
     "output_type": "stream",
     "text": [
      "Enter a number: 12\n",
      "Enter another number: 14\n",
      "The H.C.F. of 12 and 14 is 2\n"
     ]
    }
   ],
   "source": [
    "class numbers:\n",
    "    \n",
    "    def __init__(self, x, y):\n",
    "        self.x = x\n",
    "        self.y = y\n",
    "\n",
    "\n",
    "    def hcf(self):\n",
    "\n",
    "        if self.x > self.y:\n",
    "            smaller = self.y\n",
    "        else:\n",
    "            smaller = self.x\n",
    "        for i in range(1, smaller+1):\n",
    "            if((self.x % i == 0) and (self.y % i == 0)):\n",
    "                hcf = i \n",
    "        return hcf\n",
    "\n",
    "num1 = int(input(\"Enter a number: \")) \n",
    "num2 = int(input(\"Enter another number: \"))\n",
    "c = numbers(num1,num2)\n",
    "print(\"The H.C.F. of {} and {} is\".format(num1, num2), c.hcf())\n"
   ]
  },
  {
   "cell_type": "markdown",
   "id": "ddde38d6",
   "metadata": {},
   "source": [
    "3. Write a Python Program to Convert Decimal to Binary, Octal and Hexadecimal?"
   ]
  },
  {
   "cell_type": "code",
   "execution_count": 9,
   "id": "fdcc0d03",
   "metadata": {},
   "outputs": [
    {
     "name": "stdout",
     "output_type": "stream",
     "text": [
      "Enter an integer: 64\n",
      "64 in binary is  [1, 0, 0, 0, 0, 0, 0]\n",
      "64 in octal is  [1, 0, 0]\n",
      "64 in hexadecimal is  [4, 0]\n"
     ]
    }
   ],
   "source": [
    "class conversion:\n",
    "    def __init__(self, n):\n",
    "        self.n = n\n",
    "        \n",
    "    def decimal_binary(self):\n",
    "        num = self.n\n",
    "        lis = []\n",
    "        q = 1\n",
    "        while q != 0:\n",
    "            q = num//2\n",
    "            r = num%2\n",
    "            lis.append(r)\n",
    "            num = q\n",
    "        lis.reverse()\n",
    "        return lis\n",
    "    \n",
    "    def decimal_octal(self):\n",
    "        num = self.n\n",
    "        lis = []\n",
    "        q = 1\n",
    "        while q != 0:\n",
    "            q = num//8\n",
    "            r = num%8\n",
    "            lis.append(r)\n",
    "            num = q\n",
    "        lis.reverse()\n",
    "        return lis\n",
    "    \n",
    "    def decimal_hexadecimal(self):\n",
    "        num = self.n\n",
    "        lis = []\n",
    "        q = 1\n",
    "        while q != 0:\n",
    "            q = num//16\n",
    "            r = num%16\n",
    "            lis.append(r)\n",
    "            num = q\n",
    "            for i in range(len(lis)):\n",
    "                if lis[i] == 10:\n",
    "                    lis[i] = 'A'\n",
    "                elif lis[i] == 11:\n",
    "                    lis[i] = 'B'\n",
    "                elif lis[i] == 12:\n",
    "                    lis[i] = 'C'\n",
    "                elif lis[i] == 13:\n",
    "                    lis[i] = 'D'\n",
    "                elif lis[i] == 14:\n",
    "                    lis[i] = 'E'\n",
    "                elif lis[i] == 15:\n",
    "                    lis[i] = 'F'\n",
    "        lis.reverse()\n",
    "        return lis\n",
    "    \n",
    "n1 = int(input(\"Enter an integer: \"))\n",
    "c = conversion(n1)\n",
    "print('{} in binary is '.format(n1), c.decimal_binary())\n",
    "print('{} in octal is '.format(n1), c.decimal_octal())\n",
    "print('{} in hexadecimal is '.format(n1), c.decimal_hexadecimal())\n",
    "        "
   ]
  },
  {
   "cell_type": "markdown",
   "id": "8c0ffc93",
   "metadata": {},
   "source": [
    "4. Write a Python Program To Find ASCII value of a character?"
   ]
  },
  {
   "cell_type": "code",
   "execution_count": 12,
   "id": "81665984",
   "metadata": {},
   "outputs": [
    {
     "name": "stdout",
     "output_type": "stream",
     "text": [
      "Enter a character: A\n",
      "65\n"
     ]
    }
   ],
   "source": [
    "asc = lambda a : ord(a)\n",
    "s = str(input(\"Enter a character: \"))\n",
    "print(asc(s))"
   ]
  },
  {
   "cell_type": "markdown",
   "id": "83864be6",
   "metadata": {},
   "source": [
    "5. Write a Python Program to Make a Simple Calculator with 4 basic mathematical operations?"
   ]
  },
  {
   "cell_type": "code",
   "execution_count": 14,
   "id": "d881c224",
   "metadata": {},
   "outputs": [
    {
     "name": "stdout",
     "output_type": "stream",
     "text": [
      "Enter the first number: 5\n",
      "Enter the second number: 0\n",
      "Addition of 5 and 0 is  5\n",
      "Subtraction of 5 and 0 is  5\n",
      "Multiplication of 5 and 0 is  0\n",
      "Division of 5 and 0 is  Cannot divide by zero\n"
     ]
    }
   ],
   "source": [
    "class calculator:\n",
    "    def __init__(self, a, b):\n",
    "        self.a = a\n",
    "        self.b = b\n",
    "        \n",
    "    def add(self):\n",
    "        return self.a + self.b\n",
    "    \n",
    "    def sub(self):\n",
    "        return self.a - self.b\n",
    "    \n",
    "    def multiply(self):\n",
    "        return self.a*self.b\n",
    "    \n",
    "    def divide(self):\n",
    "        try:\n",
    "            c = self.a/self.b\n",
    "            return c\n",
    "        except Exception as e:\n",
    "            return \"Cannot divide by zero\"\n",
    "    \n",
    "num1 = int(input(\"Enter the first number: \"))\n",
    "num2 = int(input(\"Enter the second number: \"))\n",
    "p = calculator(num1, num2)\n",
    "print(\"Addition of {} and {} is \".format(num1, num2), p.add())\n",
    "print(\"Subtraction of {} and {} is \".format(num1, num2), p.sub())\n",
    "print(\"Multiplication of {} and {} is \".format(num1, num2), p.multiply())\n",
    "print(\"Division of {} and {} is \".format(num1, num2), p.divide())"
   ]
  },
  {
   "cell_type": "code",
   "execution_count": null,
   "id": "d6917e06",
   "metadata": {},
   "outputs": [],
   "source": []
  }
 ],
 "metadata": {
  "kernelspec": {
   "display_name": "Python 3",
   "language": "python",
   "name": "python3"
  },
  "language_info": {
   "codemirror_mode": {
    "name": "ipython",
    "version": 3
   },
   "file_extension": ".py",
   "mimetype": "text/x-python",
   "name": "python",
   "nbconvert_exporter": "python",
   "pygments_lexer": "ipython3",
   "version": "3.9.4"
  }
 },
 "nbformat": 4,
 "nbformat_minor": 5
}
