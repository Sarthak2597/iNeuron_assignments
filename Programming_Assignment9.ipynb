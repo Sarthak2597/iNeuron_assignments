{
 "cells": [
  {
   "cell_type": "markdown",
   "id": "ecfc074a",
   "metadata": {},
   "source": [
    "1. Write a Python program to check if the given number is a Disarium Number?"
   ]
  },
  {
   "cell_type": "code",
   "execution_count": 14,
   "id": "ce6efe5c",
   "metadata": {},
   "outputs": [
    {
     "name": "stdout",
     "output_type": "stream",
     "text": [
      "Enter an integer: 518\n",
      "Disarium Number\n"
     ]
    }
   ],
   "source": [
    "def check(n):\n",
    "    count = len(str(n))\n",
    "    num = str(n)\n",
    "    num_list = []\n",
    "    for i in range(count):\n",
    "        num_list.append(int(num[i]))\n",
    "    sum = 0\n",
    "    for i in range(len(num_list)):\n",
    "        sum = sum + num_list[i]**(i+1)\n",
    "    if sum == n:\n",
    "        return 1\n",
    "    else:\n",
    "        return 0\n",
    "\n",
    "try:\n",
    "    n = int(input(\"Enter an integer: \"))\n",
    "except Exception as e:\n",
    "    print(e)\n",
    "else:\n",
    "    if (check(n) == 1) :\n",
    "        print(\"Disarium Number\")\n",
    "    else :\n",
    "        print(\"Not a Disarium Number\")"
   ]
  },
  {
   "cell_type": "markdown",
   "id": "0542c907",
   "metadata": {},
   "source": [
    "2. Write a Python program to print all disarium numbers between 1 to 100?"
   ]
  },
  {
   "cell_type": "code",
   "execution_count": 16,
   "id": "5829c8b0",
   "metadata": {},
   "outputs": [
    {
     "name": "stdout",
     "output_type": "stream",
     "text": [
      "1\n",
      "2\n",
      "3\n",
      "4\n",
      "5\n",
      "6\n",
      "7\n",
      "8\n",
      "9\n",
      "89\n"
     ]
    }
   ],
   "source": [
    "for i in range(1,101):\n",
    "    if check(i) == 1:\n",
    "        print(i)"
   ]
  },
  {
   "cell_type": "markdown",
   "id": "7135edaa",
   "metadata": {},
   "source": [
    "3. Write a Python program to check if the given number is Happy Number?"
   ]
  },
  {
   "cell_type": "code",
   "execution_count": 27,
   "id": "366764df",
   "metadata": {},
   "outputs": [
    {
     "name": "stdout",
     "output_type": "stream",
     "text": [
      "13 is a Happy number\n"
     ]
    }
   ],
   "source": [
    "def numSquareSum(n):\n",
    "    squareSum = 0;\n",
    "    while(n):\n",
    "        squareSum += (n % 10) * (n % 10);\n",
    "        n = int(n / 10);\n",
    "    return squareSum;\n",
    "\n",
    "def isHappynumber(n):\n",
    "\n",
    "    slow = n;\n",
    "    fast = n;\n",
    "    while(True):\n",
    "         \n",
    "        slow = numSquareSum(slow);\n",
    "\n",
    "        fast = numSquareSum(numSquareSum(fast));\n",
    "        if(slow != fast):\n",
    "            continue;\n",
    "        else:\n",
    "            break;\n",
    "    return (slow == 1);\n",
    " \n",
    "n = 13;\n",
    "if (isHappynumber(n)):\n",
    "    print(n , \"is a Happy number\");\n",
    "else:\n",
    "    print(n , \"is not a Happy number\");"
   ]
  },
  {
   "cell_type": "markdown",
   "id": "f109e748",
   "metadata": {},
   "source": [
    "4. Write a Python program to print all happy numbers between 1 and 100?"
   ]
  },
  {
   "cell_type": "code",
   "execution_count": 28,
   "id": "c266630d",
   "metadata": {},
   "outputs": [
    {
     "name": "stdout",
     "output_type": "stream",
     "text": [
      "1\n",
      "7\n",
      "10\n",
      "13\n",
      "19\n",
      "23\n",
      "28\n",
      "31\n",
      "32\n",
      "44\n",
      "49\n",
      "68\n",
      "70\n",
      "79\n",
      "82\n",
      "86\n",
      "91\n",
      "94\n",
      "97\n",
      "100\n"
     ]
    }
   ],
   "source": [
    "for i in range(1,101):\n",
    "    if isHappynumber(i) == 1:\n",
    "        print(i)"
   ]
  },
  {
   "cell_type": "markdown",
   "id": "e7589ca1",
   "metadata": {},
   "source": [
    "5. Write a Python program to determine whether the given number is a Harshad Number?"
   ]
  },
  {
   "cell_type": "code",
   "execution_count": 43,
   "id": "330f11e5",
   "metadata": {},
   "outputs": [
    {
     "name": "stdout",
     "output_type": "stream",
     "text": [
      "The number 18 is a Harshad number\n"
     ]
    }
   ],
   "source": [
    "def harshad(n):\n",
    "    count = len(str(n))\n",
    "    num = str(n)\n",
    "    num_list = []\n",
    "    for i in range(count):\n",
    "        num_list.append(int(num[i]))\n",
    "    Sum = 0\n",
    "    for i in range(len(num_list)):\n",
    "        Sum = Sum + num_list[i]\n",
    "    \n",
    "    if n%Sum == 0:\n",
    "        return(\"The number {} is a Harshad number\".format(n))\n",
    "    else:\n",
    "        return(\"The number {} is not a Harshad number\".format(n))\n",
    "        \n",
    "print(harshad(18))\n",
    "    "
   ]
  },
  {
   "cell_type": "markdown",
   "id": "92ae8bf1",
   "metadata": {},
   "source": [
    "6. Write a Python program to print all pronic numbers between 1 and 100?"
   ]
  },
  {
   "cell_type": "code",
   "execution_count": 44,
   "id": "f9752320",
   "metadata": {},
   "outputs": [
    {
     "name": "stdout",
     "output_type": "stream",
     "text": [
      "[0, 2, 6, 12, 20, 30, 42, 56, 72, 90]\n"
     ]
    }
   ],
   "source": [
    "def pronic():\n",
    "    lis = []\n",
    "    for i in range(1,101):\n",
    "        if i*(i-1) > 100:\n",
    "            break\n",
    "        lis.append(i*(i-1))\n",
    "    return lis\n",
    "\n",
    "print(pronic())"
   ]
  },
  {
   "cell_type": "code",
   "execution_count": null,
   "id": "04aa6e35",
   "metadata": {},
   "outputs": [],
   "source": []
  }
 ],
 "metadata": {
  "kernelspec": {
   "display_name": "Python 3",
   "language": "python",
   "name": "python3"
  },
  "language_info": {
   "codemirror_mode": {
    "name": "ipython",
    "version": 3
   },
   "file_extension": ".py",
   "mimetype": "text/x-python",
   "name": "python",
   "nbconvert_exporter": "python",
   "pygments_lexer": "ipython3",
   "version": "3.9.4"
  }
 },
 "nbformat": 4,
 "nbformat_minor": 5
}
