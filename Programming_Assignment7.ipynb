{
 "cells": [
  {
   "cell_type": "markdown",
   "id": "dc29cf5a",
   "metadata": {},
   "source": [
    "1. Write a Python Program to find sum of array?"
   ]
  },
  {
   "cell_type": "code",
   "execution_count": 3,
   "id": "49008ee0",
   "metadata": {},
   "outputs": [
    {
     "name": "stdout",
     "output_type": "stream",
     "text": [
      "10\n"
     ]
    }
   ],
   "source": [
    "Sum = lambda s: sum(s)\n",
    "s_ = [1,2,3,4]\n",
    "print(Sum(s_))"
   ]
  },
  {
   "cell_type": "markdown",
   "id": "b3c3eb0c",
   "metadata": {},
   "source": [
    "2. Write a Python Program to find largest element in an array?"
   ]
  },
  {
   "cell_type": "code",
   "execution_count": 6,
   "id": "6c83ebfb",
   "metadata": {},
   "outputs": [
    {
     "name": "stdout",
     "output_type": "stream",
     "text": [
      "The largest number in the given array is 556\n"
     ]
    }
   ],
   "source": [
    "def largest(arr):\n",
    "    lis = []\n",
    "    lis.append(arr[0])\n",
    "    for i in range(len(arr)):\n",
    "        if arr[i] > lis[0]:\n",
    "            lis[0] = arr[i]\n",
    "    return lis\n",
    "        \n",
    "test = [1,8,556,7,9,0,39]\n",
    "print(\"The largest number in the given array is {}\".format(largest(test)[0]))\n"
   ]
  },
  {
   "cell_type": "markdown",
   "id": "4368e4a3",
   "metadata": {},
   "source": [
    "3. Write a Python Program for array rotation?"
   ]
  },
  {
   "cell_type": "code",
   "execution_count": 11,
   "id": "840ae4e6",
   "metadata": {},
   "outputs": [
    {
     "name": "stdout",
     "output_type": "stream",
     "text": [
      "Array after left rotation is:  [3, 4, 5, 6, 7, 1, 2]\n"
     ]
    }
   ],
   "source": [
    "def rotateArray(arr, n, d):\n",
    "    temp = []\n",
    "    i = 0\n",
    "    while (i < d):\n",
    "        temp.append(arr[i])\n",
    "        i = i + 1\n",
    "    i = 0\n",
    "    while (d < n):\n",
    "        arr[i] = arr[d]\n",
    "        i = i + 1\n",
    "        d = d + 1\n",
    "    arr[:] = arr[: i] + temp\n",
    "    return arr\n",
    " \n",
    "\n",
    "arr = [1, 2, 3, 4, 5, 6, 7]\n",
    "print(\"Array after left rotation is: \", end=' ')\n",
    "print(rotateArray(arr, len(arr), 2))"
   ]
  },
  {
   "cell_type": "markdown",
   "id": "686778db",
   "metadata": {},
   "source": [
    "4. Write a Python Program to Split the array and add the first part to the end?"
   ]
  },
  {
   "cell_type": "code",
   "execution_count": 6,
   "id": "7db2e2c3",
   "metadata": {},
   "outputs": [
    {
     "name": "stdout",
     "output_type": "stream",
     "text": [
      "[5 6 7 8 9 0 1 2 3 4]\n"
     ]
    }
   ],
   "source": [
    "import numpy as np\n",
    "def array_splitting(arr):\n",
    "    a = np.split(arr, 2)\n",
    "    return a\n",
    "\n",
    "l = np.arange(10)\n",
    "#print(array_splitting(l))\n",
    "l1 = array_splitting(l)[0]\n",
    "l2 = array_splitting(l)[1]\n",
    "print(np.append(l2, l1))"
   ]
  },
  {
   "cell_type": "markdown",
   "id": "ceb03433",
   "metadata": {},
   "source": [
    "5. Write a Python Program to check if given array is Monotonic?"
   ]
  },
  {
   "cell_type": "code",
   "execution_count": 13,
   "id": "b1dad53a",
   "metadata": {},
   "outputs": [
    {
     "name": "stdout",
     "output_type": "stream",
     "text": [
      "The array is monotonically decreasing\n"
     ]
    }
   ],
   "source": [
    "class array_operation:\n",
    "    def __init__(self, arr):\n",
    "        self.arr = arr\n",
    "        \n",
    "    def monotonic(self):\n",
    "        lis = []\n",
    "        for i in range(len(self.arr)-1):\n",
    "            j = i+1\n",
    "            if self.arr[i]>self.arr[j]:\n",
    "                lis.append(-1)\n",
    "            elif self.arr[i]<self.arr[j]:\n",
    "                lis.append(1)\n",
    "                \n",
    "        if sum(lis) == len(lis):\n",
    "            return \"The array is monotonically increasing\"\n",
    "        elif sum(lis) == -len(lis):\n",
    "            return \"The array is monotonically decreasing\"\n",
    "        else:\n",
    "            return \"The array is not monotonic\"\n",
    "        \n",
    "a = [5,4,3,2,1]\n",
    "o = array_operation(a)\n",
    "print(o.monotonic())\n",
    "                "
   ]
  },
  {
   "cell_type": "code",
   "execution_count": null,
   "id": "f7dc33fb",
   "metadata": {},
   "outputs": [],
   "source": []
  }
 ],
 "metadata": {
  "kernelspec": {
   "display_name": "Python 3",
   "language": "python",
   "name": "python3"
  },
  "language_info": {
   "codemirror_mode": {
    "name": "ipython",
    "version": 3
   },
   "file_extension": ".py",
   "mimetype": "text/x-python",
   "name": "python",
   "nbconvert_exporter": "python",
   "pygments_lexer": "ipython3",
   "version": "3.9.4"
  }
 },
 "nbformat": 4,
 "nbformat_minor": 5
}
