{
 "cells": [
  {
   "cell_type": "markdown",
   "id": "85ba6dd6",
   "metadata": {},
   "source": [
    "1. Write a Python Program to Find the Factorial of a Number?"
   ]
  },
  {
   "cell_type": "code",
   "execution_count": 9,
   "id": "c0bc98a2",
   "metadata": {},
   "outputs": [
    {
     "name": "stdout",
     "output_type": "stream",
     "text": [
      "Please enter an integer: 5\n",
      "The factorial of  5  is  120\n"
     ]
    }
   ],
   "source": [
    "class operation:\n",
    "    def __init__(self, n):\n",
    "        self.n = n\n",
    "        \n",
    "    def factorial(self):\n",
    "        prod = 1\n",
    "        for i in range(1,self.n+1):\n",
    "            prod = prod*i\n",
    "            \n",
    "        return(prod)\n",
    "\n",
    "try:\n",
    "    num = int(input(\"Please enter an integer: \"))\n",
    "except Exception as e:\n",
    "    print(e)\n",
    "else:    \n",
    "    c = operation(num)\n",
    "    print(\"The factorial of \",num,\" is \", c.factorial())"
   ]
  },
  {
   "cell_type": "markdown",
   "id": "5f449a95",
   "metadata": {},
   "source": [
    "2. Write a Python Program to Display the multiplication Table?"
   ]
  },
  {
   "cell_type": "code",
   "execution_count": 16,
   "id": "ec45b584",
   "metadata": {},
   "outputs": [
    {
     "name": "stdout",
     "output_type": "stream",
     "text": [
      "Enter an integer: 36\n",
      "36  x  1  =  36\n",
      "36  x  2  =  72\n",
      "36  x  3  =  108\n",
      "36  x  4  =  144\n",
      "36  x  5  =  180\n",
      "36  x  6  =  216\n",
      "36  x  7  =  252\n",
      "36  x  8  =  288\n",
      "36  x  9  =  324\n",
      "36  x  10  =  360\n"
     ]
    }
   ],
   "source": [
    "class multiplication:\n",
    "    def __init__(self, n):\n",
    "        self.n = n\n",
    "    \n",
    "    def display(self):\n",
    "        for i in range(1,11):\n",
    "            print(self.n,\" x \",i,\" = \",self.n*i)\n",
    "            \n",
    "tab =int(input(\"Enter an integer: \"))\n",
    "c = multiplication(tab)\n",
    "c.display()"
   ]
  },
  {
   "cell_type": "markdown",
   "id": "b055b97d",
   "metadata": {},
   "source": [
    "3. Write a Python Program to Print the Fibonacci sequence?"
   ]
  },
  {
   "cell_type": "code",
   "execution_count": 20,
   "id": "77647b7b",
   "metadata": {},
   "outputs": [
    {
     "name": "stdout",
     "output_type": "stream",
     "text": [
      "Enter the number of terms you want in the fibonacci sequence: 20\n",
      "1\n",
      "1\n",
      "2\n",
      "3\n",
      "5\n",
      "8\n",
      "13\n",
      "21\n",
      "34\n",
      "55\n",
      "89\n",
      "144\n",
      "233\n",
      "377\n",
      "610\n",
      "987\n",
      "1597\n",
      "2584\n",
      "4181\n",
      "6765\n"
     ]
    }
   ],
   "source": [
    "class sequence():\n",
    "    def fibonacci(self, n):\n",
    "        self.n = n\n",
    "        s = 0\n",
    "        s_ = 1\n",
    "        i = 0\n",
    "        while i<self.n:\n",
    "            temp = s\n",
    "            s = s + s_\n",
    "            print(s)\n",
    "            s_ = temp\n",
    "            i = i + 1\n",
    "\n",
    "num = int(input(\"Enter the number of terms you want in the fibonacci sequence: \"))\n",
    "f = sequence()\n",
    "f.fibonacci(num)"
   ]
  },
  {
   "cell_type": "markdown",
   "id": "531317c7",
   "metadata": {},
   "source": [
    "4. Write a Python Program to Check Armstrong Number?"
   ]
  },
  {
   "cell_type": "code",
   "execution_count": 39,
   "id": "9fc366bc",
   "metadata": {},
   "outputs": [
    {
     "name": "stdout",
     "output_type": "stream",
     "text": [
      "Enter a number to check whether it is an Armstrong number or not: 371\n",
      "True\n"
     ]
    }
   ],
   "source": [
    "class check:\n",
    "    def __init__(self, n):\n",
    "        self.n = n\n",
    "        \n",
    "    def armstrong(self):\n",
    "        lis = []\n",
    "        mis = []\n",
    "        total = 0\n",
    "        s = len(self.n)\n",
    "        for i in range(s):\n",
    "            lis.append(self.n[i])\n",
    "            \n",
    "        for j in range(len(lis)):\n",
    "            mis.append(int(lis[j])*int(lis[j])*int(lis[j]))\n",
    "            \n",
    "        for ele in range(0, len(mis)):\n",
    "            total = total + mis[ele]\n",
    "            \n",
    "        if str(total) == self.n:\n",
    "            return True\n",
    "        else:\n",
    "            return False\n",
    "        \n",
    "try:\n",
    "    num=str(input('Enter a number to check whether it is an Armstrong number or not: '))\n",
    "except Exception as e:\n",
    "    print(e)\n",
    "    print(\"Enter a valid integer\")\n",
    "else:    \n",
    "    p=check(num)\n",
    "    print(p.armstrong())"
   ]
  },
  {
   "cell_type": "markdown",
   "id": "8b7bb97e",
   "metadata": {},
   "source": [
    "5. Write a Python Program to Find Armstrong Number in an Interval?"
   ]
  },
  {
   "cell_type": "code",
   "execution_count": 47,
   "id": "6494d989",
   "metadata": {},
   "outputs": [
    {
     "name": "stdout",
     "output_type": "stream",
     "text": [
      "Enter a range of the interval\n",
      "Enter the first number: 1\n",
      "Enter the last number: 500\n",
      "The list of all Armstrong numbers in the interval 1 to 500 is :  [1, 153, 370, 371, 407]\n"
     ]
    }
   ],
   "source": [
    "class check:\n",
    "    def __init__(self, k, m):\n",
    "        self.k = k\n",
    "        self.m = m\n",
    "        \n",
    "    def armstrong(self, n):\n",
    "        self.n = n\n",
    "        lis = []\n",
    "        mis = []\n",
    "        total = 0\n",
    "        s = len(self.n)\n",
    "        for i in range(s):\n",
    "            lis.append(self.n[i])\n",
    "            \n",
    "        for j in range(len(lis)):\n",
    "            mis.append(int(lis[j])*int(lis[j])*int(lis[j]))\n",
    "            \n",
    "        for ele in range(0, len(mis)):\n",
    "            total = total + mis[ele]\n",
    "            \n",
    "        if str(total) == self.n:\n",
    "            return True\n",
    "        else:\n",
    "            return False\n",
    "        \n",
    "    def result(self):\n",
    "        out = []\n",
    "        for i in range(self.k, self.m+1):\n",
    "            if self.armstrong(str(i)) == True:\n",
    "                out.append(i)\n",
    "        return out\n",
    "    \n",
    "print(\"Enter a range of the interval\")\n",
    "g = int(input(\"Enter the first number: \"))\n",
    "h = int(input(\"Enter the last number: \"))\n",
    "o = check(g, h)\n",
    "print(\"The list of all Armstrong numbers in the interval {} to {} is : \".format(g,h),o.result())"
   ]
  },
  {
   "cell_type": "markdown",
   "id": "77a0257f",
   "metadata": {},
   "source": [
    "6. Write a Python Program to Find the Sum of Natural Numbers?"
   ]
  },
  {
   "cell_type": "code",
   "execution_count": 46,
   "id": "1e84ec02",
   "metadata": {},
   "outputs": [
    {
     "name": "stdout",
     "output_type": "stream",
     "text": [
      "Enter a natural number: 5\n",
      "The sum of first 5 natural numbers is 15\n"
     ]
    }
   ],
   "source": [
    "class add:\n",
    "    def __init__(self, n):\n",
    "        self.n = n\n",
    "        \n",
    "    def summation(self):\n",
    "        s = 0\n",
    "        for i in range(0,self.n+1):\n",
    "            s = s + i\n",
    "        return s\n",
    "    \n",
    "r = int(input(\"Enter a natural number: \"))\n",
    "v = add(r)\n",
    "print(\"The sum of first\", r, \"natural numbers is\", v.summation())"
   ]
  },
  {
   "cell_type": "code",
   "execution_count": null,
   "id": "b346934e",
   "metadata": {},
   "outputs": [],
   "source": []
  }
 ],
 "metadata": {
  "kernelspec": {
   "display_name": "Python 3",
   "language": "python",
   "name": "python3"
  },
  "language_info": {
   "codemirror_mode": {
    "name": "ipython",
    "version": 3
   },
   "file_extension": ".py",
   "mimetype": "text/x-python",
   "name": "python",
   "nbconvert_exporter": "python",
   "pygments_lexer": "ipython3",
   "version": "3.9.4"
  }
 },
 "nbformat": 4,
 "nbformat_minor": 5
}
