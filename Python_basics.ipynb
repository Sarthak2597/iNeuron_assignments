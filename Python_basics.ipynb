{
  "nbformat": 4,
  "nbformat_minor": 0,
  "metadata": {
    "colab": {
      "name": "Python basics.ipynb",
      "provenance": [],
      "collapsed_sections": [],
      "authorship_tag": "ABX9TyPxJ3uyDamMBNenPScPisU8",
      "include_colab_link": true
    },
    "kernelspec": {
      "name": "python3",
      "display_name": "Python 3"
    },
    "language_info": {
      "name": "python"
    }
  },
  "cells": [
    {
      "cell_type": "markdown",
      "metadata": {
        "id": "view-in-github",
        "colab_type": "text"
      },
      "source": [
        "<a href=\"https://colab.research.google.com/github/Sarthak2597/iNeuron_assignments/blob/main/Python_basics.ipynb\" target=\"_parent\"><img src=\"https://colab.research.google.com/assets/colab-badge.svg\" alt=\"Open In Colab\"/></a>"
      ]
    },
    {
      "cell_type": "markdown",
      "metadata": {
        "id": "D6x_1xRVLF0N"
      },
      "source": [
        "1. Write a program which will find all such numbers which are divisible by 7 but are not a multiple of 5, between 2000 and 3200 (both included). The numbers obtained should be printed\n",
        "in a comma-separated sequence on a single line."
      ]
    },
    {
      "cell_type": "code",
      "metadata": {
        "colab": {
          "base_uri": "https://localhost:8080/"
        },
        "id": "owZov2Xivoxw",
        "outputId": "bed3a096-bd74-406b-e61f-1d3dc8878fc4"
      },
      "source": [
        "lis=[]\n",
        "\n",
        "def func():\n",
        "  for i in range(2000,3201):\n",
        "    if i%7==0:\n",
        "      if i%5!=0:\n",
        "        lis.append(i)\n",
        "  return str(lis)\n",
        "\n",
        "print(func())"
      ],
      "execution_count": 23,
      "outputs": [
        {
          "output_type": "stream",
          "text": [
            "[2002, 2009, 2016, 2023, 2037, 2044, 2051, 2058, 2072, 2079, 2086, 2093, 2107, 2114, 2121, 2128, 2142, 2149, 2156, 2163, 2177, 2184, 2191, 2198, 2212, 2219, 2226, 2233, 2247, 2254, 2261, 2268, 2282, 2289, 2296, 2303, 2317, 2324, 2331, 2338, 2352, 2359, 2366, 2373, 2387, 2394, 2401, 2408, 2422, 2429, 2436, 2443, 2457, 2464, 2471, 2478, 2492, 2499, 2506, 2513, 2527, 2534, 2541, 2548, 2562, 2569, 2576, 2583, 2597, 2604, 2611, 2618, 2632, 2639, 2646, 2653, 2667, 2674, 2681, 2688, 2702, 2709, 2716, 2723, 2737, 2744, 2751, 2758, 2772, 2779, 2786, 2793, 2807, 2814, 2821, 2828, 2842, 2849, 2856, 2863, 2877, 2884, 2891, 2898, 2912, 2919, 2926, 2933, 2947, 2954, 2961, 2968, 2982, 2989, 2996, 3003, 3017, 3024, 3031, 3038, 3052, 3059, 3066, 3073, 3087, 3094, 3101, 3108, 3122, 3129, 3136, 3143, 3157, 3164, 3171, 3178, 3192, 3199]\n"
          ],
          "name": "stdout"
        }
      ]
    },
    {
      "cell_type": "markdown",
      "metadata": {
        "id": "EybLWqLbLWMS"
      },
      "source": [
        "2. Write a Python program to accept the user's first and last name and then getting them printed in the the reverse order with a space between first name and last name."
      ]
    },
    {
      "cell_type": "code",
      "metadata": {
        "colab": {
          "base_uri": "https://localhost:8080/"
        },
        "id": "8ieCOKuU7mtX",
        "outputId": "59520cb3-9601-404d-af9b-ea155b2719dd"
      },
      "source": [
        "a=str(input(\"Give your first name: \"))\n",
        "b=str(input(\"Give your last name: \"))\n",
        "\n",
        "def reverse(x):\n",
        "  return x[::-1]\n",
        "\n",
        "print(reverse(b),reverse(a))"
      ],
      "execution_count": 22,
      "outputs": [
        {
          "output_type": "stream",
          "text": [
            "Give your first name: Sarthak\n",
            "Give your last name: Hajirnis\n",
            "sinrijaH kahtraS\n"
          ],
          "name": "stdout"
        }
      ]
    },
    {
      "cell_type": "markdown",
      "metadata": {
        "id": "3zOWSujMLeaD"
      },
      "source": [
        "3. Write a Python program to find the volume of a sphere with diameter 12 cm.\n",
        "\n",
        "Formula: $$V=\\frac{4}{3}\\pi r^3$$"
      ]
    },
    {
      "cell_type": "code",
      "metadata": {
        "colab": {
          "base_uri": "https://localhost:8080/"
        },
        "id": "yL2dsT6YyBs-",
        "outputId": "5500dcb4-6212-4869-80fe-0b27ed687447"
      },
      "source": [
        "import numpy as np\n",
        "\n",
        "def volume(d):\n",
        "  return (4/3)*np.pi*d/2*d/2*d/2\n",
        "\n",
        "print(volume(12))"
      ],
      "execution_count": 25,
      "outputs": [
        {
          "output_type": "stream",
          "text": [
            "904.7786842338604\n"
          ],
          "name": "stdout"
        }
      ]
    },
    {
      "cell_type": "code",
      "metadata": {
        "id": "JJLSvYVvJmvZ"
      },
      "source": [
        ""
      ],
      "execution_count": null,
      "outputs": []
    }
  ]
}