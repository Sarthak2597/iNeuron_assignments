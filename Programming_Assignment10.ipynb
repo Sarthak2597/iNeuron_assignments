{
 "cells": [
  {
   "cell_type": "code",
   "execution_count": 36,
   "id": "8e5ef6d2",
   "metadata": {},
   "outputs": [],
   "source": [
    "class list_op:\n",
    "    def __init__(self, l):\n",
    "        self.l = l\n",
    "    \n",
    "    def Sum(self):\n",
    "        return sum(self.l)\n",
    "    \n",
    "    def product(self):\n",
    "        prod = 1\n",
    "        for i in self.l:\n",
    "            prod = prod * i\n",
    "        return prod\n",
    "    \n",
    "    def smallest(self):\n",
    "        s = self.l[0]\n",
    "        for i in range(len(self.l)):\n",
    "            if self.l[i] < s:\n",
    "                s = self.l[i]\n",
    "        return s\n",
    "    \n",
    "    def largest(self):\n",
    "        lar = self.l[0]\n",
    "        for i in range(len(self.l)):\n",
    "            if self.l[i] > lar:\n",
    "                lar = self.l[i]\n",
    "        return lar\n",
    "        \n",
    "    def second_largest(self):\n",
    "        m = self.largest()\n",
    "        lis = self.l\n",
    "        lis.remove(m)\n",
    "        self.l = lis\n",
    "        n = self.largest()\n",
    "        return n\n",
    "    \n",
    "    def n_largest(self,n):\n",
    "        self.n = n\n",
    "        for i in range(0,self.n):\n",
    "            m = self.largest()\n",
    "            lis = self.l\n",
    "            lis.remove(m)\n",
    "            self.l = lis\n",
    "            num = self.largest()\n",
    "        return num\n",
    "    \n",
    "    def print_even(self):\n",
    "        a = []\n",
    "        for i in self.l:\n",
    "            if i%2 == 0:\n",
    "                a.append(i)\n",
    "        return a\n",
    "    \n",
    "    def print_odd(self):\n",
    "        a = []\n",
    "        for i in self.l:\n",
    "            if i%2 != 0:\n",
    "                a.append(i)\n",
    "        return a\n",
    "    \n",
    "    def remove_empty_list(self):\n",
    "        for i in self.l:\n",
    "            if i == []:\n",
    "                self.l.remove(i)\n",
    "        return self.l\n",
    "    \n",
    "    def clone(self):\n",
    "        a = []\n",
    "        for i in self.l:\n",
    "            a.append(i)\n",
    "        return a\n",
    "    \n",
    "    def occurances(self):\n",
    "        c = 0\n",
    "        for i in range(len(self.l)):\n",
    "            c = c+1\n",
    "        return c\n",
    "        \n",
    "        \n",
    "        \n",
    "            "
   ]
  },
  {
   "cell_type": "markdown",
   "id": "d332cbc1",
   "metadata": {},
   "source": [
    "1. Write a Python program to find sum of elements in list?"
   ]
  },
  {
   "cell_type": "code",
   "execution_count": 10,
   "id": "87fac3b2",
   "metadata": {},
   "outputs": [
    {
     "name": "stdout",
     "output_type": "stream",
     "text": [
      "15\n"
     ]
    }
   ],
   "source": [
    "lis = [1,2,3,4,5]\n",
    "print(list_op(lis).Sum())"
   ]
  },
  {
   "cell_type": "markdown",
   "id": "293d9d26",
   "metadata": {},
   "source": [
    "2. Write a Python program to Multiply all numbers in the list?"
   ]
  },
  {
   "cell_type": "code",
   "execution_count": 9,
   "id": "ee533d42",
   "metadata": {},
   "outputs": [
    {
     "name": "stdout",
     "output_type": "stream",
     "text": [
      "24\n"
     ]
    }
   ],
   "source": [
    "lis = [1,2,3,4]\n",
    "print(list_op(lis).product())"
   ]
  },
  {
   "cell_type": "markdown",
   "id": "496e1d56",
   "metadata": {},
   "source": [
    "3. Write a Python program to find smallest number in a list?"
   ]
  },
  {
   "cell_type": "code",
   "execution_count": 8,
   "id": "0bd930c3",
   "metadata": {},
   "outputs": [
    {
     "name": "stdout",
     "output_type": "stream",
     "text": [
      "1\n"
     ]
    }
   ],
   "source": [
    "lis = [2,3,4,1,99,76]\n",
    "print(list_op(lis).smallest())"
   ]
  },
  {
   "cell_type": "markdown",
   "id": "8f3d5a71",
   "metadata": {},
   "source": [
    "4. Write a Python program to find largest number in a list?"
   ]
  },
  {
   "cell_type": "code",
   "execution_count": 12,
   "id": "9fe3a49e",
   "metadata": {},
   "outputs": [
    {
     "name": "stdout",
     "output_type": "stream",
     "text": [
      "99\n"
     ]
    }
   ],
   "source": [
    "lis = [2,3,4,1,99,76]\n",
    "print(list_op(lis).largest())"
   ]
  },
  {
   "cell_type": "markdown",
   "id": "577f6781",
   "metadata": {},
   "source": [
    "5. Write a Python program to find second largest number in a list?"
   ]
  },
  {
   "cell_type": "code",
   "execution_count": 15,
   "id": "a3b5c438",
   "metadata": {},
   "outputs": [
    {
     "name": "stdout",
     "output_type": "stream",
     "text": [
      "99\n"
     ]
    }
   ],
   "source": [
    "lis = [2,3,4,1,99,76,556]\n",
    "print(list_op(lis).second_largest())"
   ]
  },
  {
   "cell_type": "markdown",
   "id": "50ea1ca0",
   "metadata": {},
   "source": [
    "6. Write a Python program to find N largest elements from a list?"
   ]
  },
  {
   "cell_type": "code",
   "execution_count": 25,
   "id": "a2f711d9",
   "metadata": {},
   "outputs": [
    {
     "name": "stdout",
     "output_type": "stream",
     "text": [
      "Enter the N value to find Nth largest number: 2\n",
      "99\n"
     ]
    }
   ],
   "source": [
    "lis = [2,3,4,1,99,76,556,23]\n",
    "k = int(input(\"Enter the N value to find Nth largest number: \"))\n",
    "print(list_op(lis).n_largest(k-1))"
   ]
  },
  {
   "cell_type": "markdown",
   "id": "eb749c65",
   "metadata": {},
   "source": [
    "7. Write a Python program to print even numbers in a list?"
   ]
  },
  {
   "cell_type": "code",
   "execution_count": 29,
   "id": "b20c5995",
   "metadata": {},
   "outputs": [
    {
     "name": "stdout",
     "output_type": "stream",
     "text": [
      "[2, 4, 76, 556, 22]\n"
     ]
    }
   ],
   "source": [
    "lis = [2,3,4,1,99,76,556,22,13]\n",
    "print(list_op(lis).print_even())"
   ]
  },
  {
   "cell_type": "markdown",
   "id": "2cea1f83",
   "metadata": {},
   "source": [
    "8. Write a Python program to print odd numbers in a List?"
   ]
  },
  {
   "cell_type": "code",
   "execution_count": 31,
   "id": "463a9446",
   "metadata": {},
   "outputs": [
    {
     "name": "stdout",
     "output_type": "stream",
     "text": [
      "[3, 1, 99, 13]\n"
     ]
    }
   ],
   "source": [
    "lis = [2,3,4,1,99,76,556,22,13]\n",
    "print(list_op(lis).print_odd())"
   ]
  },
  {
   "cell_type": "markdown",
   "id": "cc886744",
   "metadata": {},
   "source": [
    "9. Write a Python program to Remove empty List from List?"
   ]
  },
  {
   "cell_type": "code",
   "execution_count": 33,
   "id": "f9a050a3",
   "metadata": {},
   "outputs": [
    {
     "name": "stdout",
     "output_type": "stream",
     "text": [
      "[2, 3, 4, 1, 99, 76, 556, 22, 13]\n"
     ]
    }
   ],
   "source": [
    "lis = [2,3,4,1,99,76,[],556,22,13]\n",
    "print(list_op(lis).remove_empty_list())"
   ]
  },
  {
   "cell_type": "markdown",
   "id": "383214a9",
   "metadata": {},
   "source": [
    "10. Write a Python program to Cloning or Copying a list?"
   ]
  },
  {
   "cell_type": "code",
   "execution_count": 35,
   "id": "f869caae",
   "metadata": {},
   "outputs": [
    {
     "name": "stdout",
     "output_type": "stream",
     "text": [
      "[2, 3, 4, 1, 99, 76, [], 556, 22, 13]\n"
     ]
    }
   ],
   "source": [
    "lis = [2,3,4,1,99,76,[],556,22,13]\n",
    "print(list_op(lis).clone())"
   ]
  },
  {
   "cell_type": "markdown",
   "id": "9e987add",
   "metadata": {},
   "source": [
    "11. Write a Python program to Count occurrences of an element in a list?"
   ]
  },
  {
   "cell_type": "code",
   "execution_count": 37,
   "id": "c2f9f80f",
   "metadata": {},
   "outputs": [
    {
     "name": "stdout",
     "output_type": "stream",
     "text": [
      "13\n"
     ]
    }
   ],
   "source": [
    "lis = [2,3,4,1,99,76,[],556,36,98,25,22,13]\n",
    "print(list_op(lis).occurances())"
   ]
  },
  {
   "cell_type": "code",
   "execution_count": null,
   "id": "3c9103d8",
   "metadata": {},
   "outputs": [],
   "source": []
  }
 ],
 "metadata": {
  "kernelspec": {
   "display_name": "Python 3",
   "language": "python",
   "name": "python3"
  },
  "language_info": {
   "codemirror_mode": {
    "name": "ipython",
    "version": 3
   },
   "file_extension": ".py",
   "mimetype": "text/x-python",
   "name": "python",
   "nbconvert_exporter": "python",
   "pygments_lexer": "ipython3",
   "version": "3.9.4"
  }
 },
 "nbformat": 4,
 "nbformat_minor": 5
}
