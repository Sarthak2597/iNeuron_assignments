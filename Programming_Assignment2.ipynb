{
 "cells": [
  {
   "cell_type": "markdown",
   "id": "b0e98cd2",
   "metadata": {},
   "source": [
    "1. Write a Python program to convert kilometers to miles?"
   ]
  },
  {
   "cell_type": "code",
   "execution_count": 1,
   "id": "64b8913d",
   "metadata": {},
   "outputs": [
    {
     "name": "stdout",
     "output_type": "stream",
     "text": [
      "Enter the distance in kilometers: 5\n",
      "The distance in miles is  3.107520198881293\n"
     ]
    }
   ],
   "source": [
    "class conv:\n",
    "    def __init__(self, km):\n",
    "        self.km = km\n",
    "        \n",
    "    def km_mi(self):\n",
    "        mi = self.km/1.609\n",
    "        return mi\n",
    "    \n",
    "k = float(input(\"Enter the distance in kilometers: \"))\n",
    "p1 = conv(k)\n",
    "print(\"The distance in miles is \", p1.km_mi())"
   ]
  },
  {
   "cell_type": "markdown",
   "id": "a7267264",
   "metadata": {},
   "source": [
    "2. Write a Python program to convert Celsius to Fahrenheit?"
   ]
  },
  {
   "cell_type": "code",
   "execution_count": 2,
   "id": "0f7abfde",
   "metadata": {},
   "outputs": [
    {
     "name": "stdout",
     "output_type": "stream",
     "text": [
      "Enter a value of temperature in Celsius: 37\n",
      "The temperature in Fahrenheit is  98.60000000000001\n"
     ]
    }
   ],
   "source": [
    "class temp:\n",
    "    def __init__(self, cel):\n",
    "        self.cel = cel\n",
    "        \n",
    "    def conv(self):\n",
    "        far = (9/5)*self.cel+32\n",
    "        return far\n",
    "\n",
    "k = float(input(\"Enter a value of temperature in Celsius: \"))\n",
    "p = temp(k)\n",
    "print(\"The temperature in Fahrenheit is \",p.conv())"
   ]
  },
  {
   "cell_type": "markdown",
   "id": "71fd56eb",
   "metadata": {},
   "source": [
    "3. Write a Python program to display calendar?"
   ]
  },
  {
   "cell_type": "code",
   "execution_count": 3,
   "id": "a3aa88b8",
   "metadata": {},
   "outputs": [
    {
     "name": "stdout",
     "output_type": "stream",
     "text": [
      "Enter a year1997\n",
      "Enter a month5\n",
      "      May 1997\n",
      "Mo Tu We Th Fr Sa Su\n",
      "          1  2  3  4\n",
      " 5  6  7  8  9 10 11\n",
      "12 13 14 15 16 17 18\n",
      "19 20 21 22 23 24 25\n",
      "26 27 28 29 30 31\n",
      "\n"
     ]
    }
   ],
   "source": [
    "import calendar\n",
    "\n",
    "yy=int(input(\"Enter a year\"))\n",
    "mm=int(input(\"Enter a month\"))\n",
    "\n",
    "print(calendar.month(yy, mm))"
   ]
  },
  {
   "cell_type": "markdown",
   "id": "2e32a105",
   "metadata": {},
   "source": [
    "4. Write a Python program to solve quadratic equation?"
   ]
  },
  {
   "cell_type": "code",
   "execution_count": 4,
   "id": "ad2ada40",
   "metadata": {},
   "outputs": [
    {
     "name": "stdout",
     "output_type": "stream",
     "text": [
      "Enter the coefficient a: 5\n",
      "Enter the coefficient b: -8\n",
      "Enter the coefficient c: 5\n",
      "Roots:  ('(--8.0+sqrt(36.0)i)/(10.0)', '(--8.0-sqrt(36.0)i)/(10.0)')\n"
     ]
    }
   ],
   "source": [
    "import numpy as np\n",
    "class quad:\n",
    "    def __init__(self,a,b,c):\n",
    "        self.a = a\n",
    "        self.b = b\n",
    "        self.c = c\n",
    "    \n",
    "    def solutions(self):\n",
    "        if self.b*self.b == 4*self.a*self.c:\n",
    "            return(\"unique solution\")\n",
    "        elif self.b*self.b > 4*self.a*self.c:\n",
    "            return(\"real solutions\")\n",
    "        elif self.b*self.b < 4*self.a*self.c:\n",
    "            return(\"imaginary solutions\")\n",
    "        \n",
    "    def solve(self):\n",
    "        if self.solutions() == \"unique solution\":\n",
    "            return(-self.b/(2*self.a))\n",
    "        elif self.solutions() == \"real solutions\":\n",
    "            return((-self.b+np.sqrt(self.b*self.b-4*self.a*self.c))/(2*self.a),(-self.b-np.sqrt(self.b*self.b-4*self.a*self.c))/(2*self.a))\n",
    "        elif self.solutions() == \"imaginary solutions\":\n",
    "            s = 4*self.a*self.c-self.b*self.b\n",
    "            self.s = s\n",
    "            return('(-{}+sqrt({})i)/({})'.format(self.b, self.s, 2*self.a),'(-{}-sqrt({})i)/({})'.format(self.b, self.s, 2*self.a))\n",
    "        \n",
    "coeff_a = float(input(\"Enter the coefficient a: \"))\n",
    "coeff_b = float(input(\"Enter the coefficient b: \"))\n",
    "coeff_c = float(input(\"Enter the coefficient c: \"))\n",
    "\n",
    "inp = quad(coeff_a, coeff_b, coeff_c)\n",
    "print(\"Roots: \",inp.solve())"
   ]
  },
  {
   "cell_type": "markdown",
   "id": "987f18f6",
   "metadata": {},
   "source": [
    "5. Write a Python program to swap two variables without temp variable?"
   ]
  },
  {
   "cell_type": "code",
   "execution_count": 5,
   "id": "cc4235c1",
   "metadata": {},
   "outputs": [
    {
     "name": "stdout",
     "output_type": "stream",
     "text": [
      "Enter a number: 5\n",
      "Enter another number: 8\n",
      "Before Swapping a:  5.0  and b:  8.0\n",
      "After Swapping a:  8.0  and b:  5.0\n"
     ]
    }
   ],
   "source": [
    "class swap:\n",
    "    def __init__(self, a, b):\n",
    "        self.a = a\n",
    "        self.b = b\n",
    "        \n",
    "    def inter(self):\n",
    "        self.a=self.a+self.b  \n",
    "        self.b=self.a-self.b \n",
    "        self.a=self.a-self.b\n",
    "        return(self.a,self.b)\n",
    "\n",
    "a_ = float(input(\"Enter a number: \"))\n",
    "b_ = float(input(\"Enter another number: \"))\n",
    "print(\"Before Swapping a: \",a_,\" and b: \",b_)\n",
    "c=swap(a_,b_)\n",
    "a_s,b_s = c.inter()\n",
    "print(\"After Swapping a: \",a_s,\" and b: \",b_s)"
   ]
  },
  {
   "cell_type": "code",
   "execution_count": null,
   "id": "e450c07b",
   "metadata": {},
   "outputs": [],
   "source": []
  }
 ],
 "metadata": {
  "kernelspec": {
   "display_name": "Python 3",
   "language": "python",
   "name": "python3"
  },
  "language_info": {
   "codemirror_mode": {
    "name": "ipython",
    "version": 3
   },
   "file_extension": ".py",
   "mimetype": "text/x-python",
   "name": "python",
   "nbconvert_exporter": "python",
   "pygments_lexer": "ipython3",
   "version": "3.9.4"
  }
 },
 "nbformat": 4,
 "nbformat_minor": 5
}
