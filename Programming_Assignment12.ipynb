{
 "cells": [
  {
   "cell_type": "markdown",
   "id": "b1aba527",
   "metadata": {},
   "source": [
    "1. Write a Python program to Extract Unique values dictionary values?"
   ]
  },
  {
   "cell_type": "code",
   "execution_count": 2,
   "id": "d870aae4",
   "metadata": {},
   "outputs": [
    {
     "name": "stdout",
     "output_type": "stream",
     "text": [
      "The unique values are : [1, 3, 4, 5, 7, 8, 9, 88, 98]\n"
     ]
    }
   ],
   "source": [
    "test = {'sar' : [5,8,9],\n",
    "        'sudh' : [9,3,1],\n",
    "        'sal' : [88,7,4],\n",
    "        'krish' : [3,98,5,4]}\n",
    "r = list(sorted({e for val in test.values() for e in val}))\n",
    "print(\"The unique values are : \" + str(r))"
   ]
  },
  {
   "cell_type": "markdown",
   "id": "d198a98e",
   "metadata": {},
   "source": [
    "2. Write a Python program to find the sum of all items in a dictionary?"
   ]
  },
  {
   "cell_type": "code",
   "execution_count": 2,
   "id": "666a994b",
   "metadata": {},
   "outputs": [
    {
     "name": "stdout",
     "output_type": "stream",
     "text": [
      "Sum : 2000\n"
     ]
    }
   ],
   "source": [
    "def Summ(d):\n",
    "      \n",
    "    sum = 0\n",
    "    for i in d:\n",
    "        sum = sum + d[i]\n",
    "      \n",
    "    return sum\n",
    "  \n",
    "# Driver Function\n",
    "dict = {'a': 100, 'b':200, 'c':300, 'd':400, 'e': 1000}\n",
    "print(\"Sum :\", Summ(dict))"
   ]
  },
  {
   "cell_type": "markdown",
   "id": "14689f34",
   "metadata": {},
   "source": [
    "3. Write a Python program to Merging two Dictionaries?"
   ]
  },
  {
   "cell_type": "code",
   "execution_count": 14,
   "id": "080d8b5a",
   "metadata": {},
   "outputs": [
    {
     "name": "stdout",
     "output_type": "stream",
     "text": [
      "{'d': 6, 'c': 4, 'a': 10, 'b': 8}\n"
     ]
    }
   ],
   "source": [
    "def Merge(d1, d2):\n",
    "    return(d2.update(d1))\n",
    "     \n",
    "# Driver code\n",
    "d1 = {'a': 10, 'b': 8}\n",
    "d2 = {'d': 6, 'c': 4}\n",
    "Merge(d1,d2)\n",
    "\n",
    "print(d2)"
   ]
  },
  {
   "cell_type": "markdown",
   "id": "9fcabbf5",
   "metadata": {},
   "source": [
    "4. Write a Python program to convert key-values list to flat dictionary?"
   ]
  },
  {
   "cell_type": "code",
   "execution_count": 1,
   "id": "75593f9a",
   "metadata": {},
   "outputs": [
    {
     "name": "stdout",
     "output_type": "stream",
     "text": [
      "Flattened dictionary : {1: 'Sunday', 2: 'Monday', 3: 'Tuesday', 4: 'Wednesday', 5: 'Thursday', 6: 'Friday', 7: 'Saturday'}\n"
     ]
    }
   ],
   "source": [
    "from itertools import product\n",
    "  \n",
    "\n",
    "test_dict = {'day' : [1, 2, 3, 4, 5, 6, 7],\n",
    "             'name' : ['Sunday', 'Monday', 'Tuesday', 'Wednesday', 'Thursday', 'Friday', 'Saturday']}\n",
    "  \n",
    "\n",
    "res = dict(zip(test_dict['day'], test_dict['name']))\n",
    "  \n",
    "\n",
    "print(\"Flattened dictionary : \" + str(res))"
   ]
  },
  {
   "cell_type": "markdown",
   "id": "e11d1326",
   "metadata": {},
   "source": [
    "5. Write a Python program to insertion at the beginning in OrderedDict?"
   ]
  },
  {
   "cell_type": "code",
   "execution_count": 2,
   "id": "5324ad7d",
   "metadata": {},
   "outputs": [
    {
     "name": "stdout",
     "output_type": "stream",
     "text": [
      "Resultant Dictionary : OrderedDict([('manjeet', '3'), ('akshat', '1'), ('nikhil', '2')])\n"
     ]
    }
   ],
   "source": [
    "from collections import OrderedDict\n",
    "  \n",
    "iniordered_dict = OrderedDict([('akshat', '1'), ('nikhil', '2')])\n",
    "   \n",
    "iniordered_dict.update({'manjeet':'3'})\n",
    "iniordered_dict.move_to_end('manjeet', last = False)\n",
    "\n",
    "print (\"Resultant Dictionary : \"+str(iniordered_dict))"
   ]
  },
  {
   "cell_type": "markdown",
   "id": "36195bfa",
   "metadata": {},
   "source": [
    "6. Write a Python program to check order of character in string using OrderedDict()?"
   ]
  },
  {
   "cell_type": "code",
   "execution_count": 6,
   "id": "5d1d46c3",
   "metadata": {},
   "outputs": [
    {
     "name": "stdout",
     "output_type": "stream",
     "text": [
      "true\n"
     ]
    }
   ],
   "source": [
    "from collections import OrderedDict \n",
    "  \n",
    "def checkOrder(input, pattern): \n",
    "       \n",
    "    dict = OrderedDict.fromkeys(input) \n",
    "   \n",
    "    ptrlen = 0\n",
    "    for key,value in dict.items(): \n",
    "        if (key == pattern[ptrlen]): \n",
    "            ptrlen = ptrlen + 1\n",
    "           \n",
    "        if (ptrlen == (len(pattern))): \n",
    "            return 'true' \n",
    "    return 'false'\n",
    "   \n",
    "if __name__ == \"__main__\": \n",
    "    input = 'scientists will rule the world'\n",
    "    pattern = 'cet'\n",
    "    print (checkOrder(input,pattern))"
   ]
  },
  {
   "cell_type": "markdown",
   "id": "37e04df1",
   "metadata": {},
   "source": [
    "7. Write a Python program to sort Python Dictionaries by Key or Value?"
   ]
  },
  {
   "cell_type": "code",
   "execution_count": 11,
   "id": "8b7a5225",
   "metadata": {},
   "outputs": [
    {
     "name": "stdout",
     "output_type": "stream",
     "text": [
      "2 12 18 24 56 323 "
     ]
    }
   ],
   "source": [
    "key_value1 ={}\n",
    "key_value1[2] = 56      \n",
    "key_value1[1] = 2\n",
    "key_value1[5] = 12\n",
    "key_value1[4] = 24\n",
    "key_value1[6] = 18     \n",
    "key_value1[3] = 323\n",
    "\n",
    "def sortby(s):\n",
    "    if s == 'keys':\n",
    "        for i in sorted (key_value1.keys()) :\n",
    "            print(i, end = \" \")\n",
    "            \n",
    "    elif s == 'values':\n",
    "        for i in sorted (key_value.values()) :\n",
    "            print(i, end = \" \")\n",
    "        \n",
    "\n",
    "sortby('values')"
   ]
  },
  {
   "cell_type": "code",
   "execution_count": null,
   "id": "0cf39566",
   "metadata": {},
   "outputs": [],
   "source": []
  }
 ],
 "metadata": {
  "kernelspec": {
   "display_name": "Python 3",
   "language": "python",
   "name": "python3"
  },
  "language_info": {
   "codemirror_mode": {
    "name": "ipython",
    "version": 3
   },
   "file_extension": ".py",
   "mimetype": "text/x-python",
   "name": "python",
   "nbconvert_exporter": "python",
   "pygments_lexer": "ipython3",
   "version": "3.9.4"
  }
 },
 "nbformat": 4,
 "nbformat_minor": 5
}
