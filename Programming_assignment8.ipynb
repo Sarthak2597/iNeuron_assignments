{
 "cells": [
  {
   "cell_type": "code",
   "execution_count": 25,
   "id": "d650a4c1",
   "metadata": {},
   "outputs": [],
   "source": [
    "class matrix_op:\n",
    "        \n",
    "    def add(self, mat1, mat2):\n",
    "        self.mat1 = mat1\n",
    "        self.mat2 = mat2\n",
    "        result = []\n",
    "        for i in range(len(self.mat1)):\n",
    "            for j in range(len(self.mat1[0])):\n",
    "                result.append(self.mat1[i][j] + self.mat2[i][j])\n",
    "        return result\n",
    "    \n",
    "    def multiply(self, m1, m2):\n",
    "        self.m1 = m1\n",
    "        self.m2 = m2\n",
    "        result = [[0,0,0],\n",
    "                  [0,0,0],\n",
    "                  [0,0,0]]\n",
    "        for i in range(len(self.m1)): \n",
    "            for j in range(len(self.m2[0])):\n",
    "                for k in range(len(self.m2)):\n",
    "                    result[i][j] += self.m1[i][k] * self.m2[k][j]\n",
    "        return result\n",
    "    \n",
    "    def transpose(self, matrix):\n",
    "        self.matrix = matrix\n",
    "        result = [[0,0,0],\n",
    "                  [0,0,0],\n",
    "                  [0,0,0]]\n",
    "        for i in range(len(self.matrix)):\n",
    "            for j in range(len(self.matrix[0])):\n",
    "                result[i][j] = self.matrix[j][i]\n",
    "        return result\n",
    "        \n",
    "        "
   ]
  },
  {
   "cell_type": "markdown",
   "id": "b9fc73f3",
   "metadata": {},
   "source": [
    "1. Write a Python Program to Add Two Matrices?"
   ]
  },
  {
   "cell_type": "code",
   "execution_count": 20,
   "id": "4aa417a3",
   "metadata": {},
   "outputs": [
    {
     "name": "stdout",
     "output_type": "stream",
     "text": [
      "12 14 26 \n",
      "18 20 22 \n",
      "24 26 28 \n"
     ]
    }
   ],
   "source": [
    "\n",
    "a = [[1,2,13],\n",
    "     [4,5,6],\n",
    "     [7,8,9]]\n",
    "\n",
    "b = [[11,12,13],\n",
    "     [14,15,16],\n",
    "     [17,18,19]]\n",
    "\n",
    "    \n",
    "o = matrix_op()\n",
    "c = 1\n",
    "for i in o.add(a,b):\n",
    "    print(i, end = ' ')\n",
    "    if c%3 == 0:\n",
    "        print(end = '\\n')\n",
    "    c = c+1\n",
    "    \n"
   ]
  },
  {
   "cell_type": "markdown",
   "id": "7101c554",
   "metadata": {},
   "source": [
    "2. Write a Python Program to Multiply Two Matrices?"
   ]
  },
  {
   "cell_type": "code",
   "execution_count": 24,
   "id": "acee39b0",
   "metadata": {},
   "outputs": [
    {
     "name": "stdout",
     "output_type": "stream",
     "text": [
      "[10, 20, 30]\n",
      "[40, 50, 60]\n",
      "[70, 80, 90]\n"
     ]
    }
   ],
   "source": [
    "a = [[1,0,0],\n",
    "     [0,1,0],\n",
    "     [0,0,1]]\n",
    "\n",
    "b = [[10,20,30],\n",
    "     [40,50,60],\n",
    "     [70,80,90]]\n",
    "\n",
    "o = matrix_op()\n",
    "\n",
    "for r in o.multiply(a,b):\n",
    "    print(r)"
   ]
  },
  {
   "cell_type": "markdown",
   "id": "24213ba8",
   "metadata": {},
   "source": [
    "3. Write a Python Program to Transpose a Matrix?"
   ]
  },
  {
   "cell_type": "code",
   "execution_count": 26,
   "id": "ecac3fe2",
   "metadata": {},
   "outputs": [
    {
     "name": "stdout",
     "output_type": "stream",
     "text": [
      "[10, 40, 70]\n",
      "[20, 50, 80]\n",
      "[30, 60, 90]\n"
     ]
    }
   ],
   "source": [
    "b = [[10,20,30],\n",
    "     [40,50,60],\n",
    "     [70,80,90]]\n",
    "\n",
    "o = matrix_op()\n",
    "\n",
    "for r in o.transpose(b):\n",
    "    print(r)"
   ]
  },
  {
   "cell_type": "markdown",
   "id": "c7a26814",
   "metadata": {},
   "source": [
    "4. Write a Python Program to Sort Words in Alphabetic Order?"
   ]
  },
  {
   "cell_type": "code",
   "execution_count": 38,
   "id": "4fffe5e8",
   "metadata": {},
   "outputs": [
    {
     "name": "stdout",
     "output_type": "stream",
     "text": [
      "Enter a string: Hello Universe!, have a great day\n",
      "The sorted words are:\n",
      "a\n",
      "day\n",
      "great\n",
      "have\n",
      "hello\n",
      "universe!,\n"
     ]
    }
   ],
   "source": [
    "my_str = input(\"Enter a string: \")\n",
    "\n",
    "words = [word.lower() for word in my_str.split()]\n",
    "\n",
    "words.sort()\n",
    "\n",
    "print(\"The sorted words are:\")\n",
    "for word in words:\n",
    "    print(word)"
   ]
  },
  {
   "cell_type": "markdown",
   "id": "112f66f9",
   "metadata": {},
   "source": [
    "5. Write a Python Program to Remove Punctuation From a String?"
   ]
  },
  {
   "cell_type": "code",
   "execution_count": 43,
   "id": "c0f2a6ad",
   "metadata": {},
   "outputs": [
    {
     "name": "stdout",
     "output_type": "stream",
     "text": [
      "Enter your sentence: Around 150 BC,& Mesopotamia was under the ? control of the Parthian Empire. $ Mesopotamia became a # battleground between the Romans ; and Parthians, with western < parts of Mesopotamia ! coming , under ephemeral [ Roman control.\n",
      "**************************\n",
      "Around 150 BC Mesopotamia was under the  control of the Parthian Empire  Mesopotamia became a  battleground between the Romans  and Parthians with western  parts of Mesopotamia  coming  under ephemeral  Roman control\n"
     ]
    }
   ],
   "source": [
    "s = str(input(\"Enter your sentence: \"))\n",
    "punc = '''!()-[]{};:'\"\\,<>./?@#$%^&*_~'''\n",
    "  \n",
    "for ele in s: \n",
    "    if ele in punc: \n",
    "        s = s.replace(ele, \"\") \n",
    "print('*************'*2)        \n",
    "print(s)"
   ]
  },
  {
   "cell_type": "code",
   "execution_count": null,
   "id": "c424a1f9",
   "metadata": {},
   "outputs": [],
   "source": []
  }
 ],
 "metadata": {
  "kernelspec": {
   "display_name": "Python 3",
   "language": "python",
   "name": "python3"
  },
  "language_info": {
   "codemirror_mode": {
    "name": "ipython",
    "version": 3
   },
   "file_extension": ".py",
   "mimetype": "text/x-python",
   "name": "python",
   "nbconvert_exporter": "python",
   "pygments_lexer": "ipython3",
   "version": "3.9.4"
  }
 },
 "nbformat": 4,
 "nbformat_minor": 5
}
