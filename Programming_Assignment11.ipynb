{
 "cells": [
  {
   "cell_type": "markdown",
   "id": "a85191b2",
   "metadata": {},
   "source": [
    "1. Write a Python program to find words which are greater than given length k?"
   ]
  },
  {
   "cell_type": "code",
   "execution_count": 14,
   "id": "6fbf91b8",
   "metadata": {},
   "outputs": [
    {
     "name": "stdout",
     "output_type": "stream",
     "text": [
      "Enter the string: Look again at that dot. That's here. That's home. That's us. On it everyone you love, everyone you know, everyone you ever heard of, every human being who ever was, lived out their lives. The aggregate of our joy and suffering, thousands of confident religions, ideologies, and economic doctrines, every hunter and forager, every hero and coward, every creator and destroyer of civilization, every king and peasant, every young couple in love, every mother and father, hopeful child, inventor and explorer, every teacher of morals, every corrupt politician, every \"superstar,\" every \"supreme leader,\" every saint and sinner in the history of our species lived there-on a mote of dust suspended in a sunbeam\n",
      "Enter the word limit: 8\n",
      "The following words have a size greater than 8\n",
      "aggregate\n",
      "suffering,\n",
      "thousands\n",
      "confident\n",
      "religions,\n",
      "ideologies,\n",
      "doctrines,\n",
      "destroyer\n",
      "civilization,\n",
      "explorer,\n",
      "politician,\n",
      "\"superstar,\"\n",
      "suspended\n"
     ]
    }
   ],
   "source": [
    "def greater_than(k,s_):\n",
    "    lis = []\n",
    "    lis = s_.split()\n",
    "    for i in lis:\n",
    "        if len(i)>k:\n",
    "            print(i)\n",
    "            \n",
    "s = str(input(\"Enter the string: \"))\n",
    "k = int(input(\"Enter the word limit: \"))\n",
    "print(\"The following words have a size greater than {}\".format(k))\n",
    "greater_than(k,s)"
   ]
  },
  {
   "cell_type": "markdown",
   "id": "93a995da",
   "metadata": {},
   "source": [
    "2. Write a Python program for removing i-th character from a string?"
   ]
  },
  {
   "cell_type": "code",
   "execution_count": 7,
   "id": "9b47ec3c",
   "metadata": {},
   "outputs": [
    {
     "name": "stdout",
     "output_type": "stream",
     "text": [
      "Eienvalue\n"
     ]
    }
   ],
   "source": [
    "def remove(s,i):\n",
    "    a=s[:i]\n",
    "    b=s[i+1:]\n",
    "    return a+b\n",
    "\n",
    "s = 'Eigenvalue'\n",
    "i = 2\n",
    "print(remove(s,i))"
   ]
  },
  {
   "cell_type": "markdown",
   "id": "ae353293",
   "metadata": {},
   "source": [
    "3. Write a Python program to split and join a string?"
   ]
  },
  {
   "cell_type": "code",
   "execution_count": 31,
   "id": "fa80a1c9",
   "metadata": {},
   "outputs": [
    {
     "name": "stdout",
     "output_type": "stream",
     "text": [
      "Enter your string: ugvcuevcuevcue\n",
      "Enter a term along which the string is to be splitted: 5\n",
      "Splittng the string along 5 results in: ('ugvcu', 'evcuevcue')\n",
      "Joining the strings results in: ugvcuevcuevcue\n"
     ]
    }
   ],
   "source": [
    "class str_op:\n",
    "    def __init__(self, s):\n",
    "        self.s = s\n",
    "        \n",
    "    def split(self, n):\n",
    "        a = self.s[:n]\n",
    "        b = self.s[n:]\n",
    "        return a,b\n",
    "    \n",
    "    def join(self, n,m):\n",
    "        return n+m\n",
    "    \n",
    "ss = str(input(\"Enter your string: \"))\n",
    "n = int(input(\"Enter a term along which the string is to be splitted: \"))\n",
    "o = str_op(ss)\n",
    "print(\"Splittng the string along {} results in: {}\".format(n,o.split(n)))\n",
    "print(\"Joining the strings results in: {}\".format(o.join(o.split(n)[0],o.split(n)[1])))"
   ]
  },
  {
   "cell_type": "markdown",
   "id": "0fa20f9f",
   "metadata": {},
   "source": [
    "4. Write a Python to check if a given string is binary string or not?"
   ]
  },
  {
   "cell_type": "code",
   "execution_count": 11,
   "id": "adda6dbd",
   "metadata": {},
   "outputs": [
    {
     "name": "stdout",
     "output_type": "stream",
     "text": [
      "Enter your string: 1001011\n",
      "It is a binary string\n"
     ]
    }
   ],
   "source": [
    "def is_binary(s):\n",
    "    l = len(s)\n",
    "    c = 0\n",
    "    for i in range(l):\n",
    "        if s[i] != '0':\n",
    "            if s[i] != '1':\n",
    "                c = c+1\n",
    "            else:\n",
    "                continue\n",
    "        else:\n",
    "            continue\n",
    "    \n",
    "    if c != 0:\n",
    "        return(\"It is not a binary string\")\n",
    "    else:\n",
    "        return(\"It is a binary string\")\n",
    "\n",
    "if __name__ == \"__main__\" :\n",
    "    inp = str(input(\"Enter your string: \"))\n",
    "    print(is_binary(inp))"
   ]
  },
  {
   "cell_type": "markdown",
   "id": "0c174261",
   "metadata": {},
   "source": [
    "5. Write a Python program to find uncommon words from two Strings?"
   ]
  },
  {
   "cell_type": "code",
   "execution_count": 25,
   "id": "36170b66",
   "metadata": {},
   "outputs": [
    {
     "name": "stdout",
     "output_type": "stream",
     "text": [
      "Enter your 1st string: 2D layered materials are naturally occurring and synthetic systems that are composed of sheets of atoms that are only a few atomic layers thick in one dimension and extended in the other two dimensions. Such layered materials can form semiconductors, insulators, superconductors, metals, and other exotic quantum systems such as topological insulators. Several research activities in the Borys Lab focus on using optical spectroscopy to explore, discover, and manipulate the optical and electronic properties of 2D layered materials. By understanding the intricate details behind how 2D materials absorb and emit light, we gain deep insight into their underlying quantum mechanical optical and electronic behavior. Furthermore, with specialized nano-optical and time-resolved optical imaging and spectroscopy tools, we study quantum phenomena in 2D materials on time scales as small as a picosecond (10^-12 s) and at length scales as small as 10 nm (10^-8 m).\n",
      "##########################################################################################\n",
      "Enter your 2nd string: At these extremes of time and space, we can often discover hidden effects that are missed with other more conventional and less sophisticated techniques, leading to new routes to utilize these materials in technologies ranging from high-performance solar cells and sensors to next-generation applications in quantum information science.\n",
      "##########################################################################################\n",
      "The uncommon words from both the strings are as follows: \n",
      "\n",
      " ['2D', 'layered', 'naturally', 'occurring', 'synthetic', 'systems', 'composed', 'sheets', 'atoms', 'only', 'a', 'few', 'atomic', 'layers', 'thick', 'one', 'dimension', 'extended', 'the', 'two', 'dimensions.', 'Such', 'layered', 'form', 'semiconductors,', 'insulators,', 'superconductors,', 'metals,', 'exotic', 'systems', 'such', 'as', 'topological', 'insulators.', 'Several', 'research', 'activities', 'the', 'Borys', 'Lab', 'focus', 'on', 'using', 'optical', 'spectroscopy', 'explore,', 'discover,', 'manipulate', 'the', 'optical', 'electronic', 'properties', '2D', 'layered', 'materials.', 'By', 'understanding', 'the', 'intricate', 'details', 'behind', 'how', '2D', 'absorb', 'emit', 'light,', 'gain', 'deep', 'insight', 'into', 'their', 'underlying', 'mechanical', 'optical', 'electronic', 'behavior.', 'Furthermore,', 'specialized', 'nano-optical', 'time-resolved', 'optical', 'imaging', 'spectroscopy', 'tools,', 'study', 'phenomena', '2D', 'on', 'scales', 'as', 'small', 'as', 'a', 'picosecond', '(10^-12', 's)', 'at', 'length', 'scales', 'as', 'small', 'as', '10', 'nm', '(10^-8', 'm).']\n"
     ]
    }
   ],
   "source": [
    "def uncommon_words(s1,s2):\n",
    "    lis = []\n",
    "    lis1 = []\n",
    "    lis2 = []\n",
    "    lis1 = s1.split()\n",
    "    lis2 = s2.split()\n",
    "    if len(lis1) > len(lis2):\n",
    "        a = len(lis1)\n",
    "    else:\n",
    "        a = len(lis2)\n",
    "    for i in range(a):\n",
    "        if lis1[i] not in lis2:\n",
    "            lis.append(lis1[i])\n",
    "    return(lis)\n",
    "\n",
    "if __name__ == \"__main__\" :\n",
    "    inp1 = str(input(\"Enter your 1st string: \"))\n",
    "    print('###'*30)\n",
    "    inp2 = str(input(\"Enter your 2nd string: \"))\n",
    "    print('###'*30)\n",
    "    print(\"The uncommon words from both the strings are as follows: \\n\\n\",uncommon_words(inp1,inp2))\n",
    "\n",
    "    "
   ]
  },
  {
   "cell_type": "markdown",
   "id": "d50bd6b8",
   "metadata": {},
   "source": [
    "6. Write a Python to find all duplicate characters in string?"
   ]
  },
  {
   "cell_type": "code",
   "execution_count": 26,
   "id": "2516187a",
   "metadata": {},
   "outputs": [
    {
     "name": "stdout",
     "output_type": "stream",
     "text": [
      "Enter your 1st string: 2D layered materials are naturally occurring and synthetic systems that are composed of sheets of atoms that are only a few atomic layers thick in one dimension and extended in the other two dimensions. Such layered materials can form semiconductors, insulators, superconductors, metals, and other exotic quantum systems such as topological insulators. Several research activities in the Borys Lab focus on using optical spectroscopy to explore, discover, and manipulate the optical and electronic properties of 2D layered materials. By understanding the intricate details behind how 2D materials absorb and emit light, we gain deep insight into their underlying quantum mechanical optical and electronic behavior. Furthermore, with specialized nano-optical and time-resolved optical imaging and spectroscopy tools, we study quantum phenomena in 2D materials on time scales as small as a picosecond (10^-12 s) and at length scales as small as 10 nm (10^-8 m).\n",
      "##########################################################################################\n",
      "Enter your 2nd string: At these extremes of time and space, we can often discover hidden effects that are missed with other more conventional and less sophisticated techniques, leading to new routes to utilize these materials in technologies ranging from high-performance solar cells and sensors to next-generation applications in quantum information science.\n",
      "##########################################################################################\n",
      "The common words from both the strings are as follows: \n",
      "\n",
      " ['materials', 'are', 'and', 'that', 'are', 'of', 'of', 'that', 'are', 'in', 'and', 'in', 'other', 'materials', 'can', 'and', 'other', 'quantum', 'in', 'to', 'and', 'and', 'of', 'materials', 'and', 'we', 'quantum', 'and', 'with', 'and', 'and', 'we', 'quantum', 'in', 'materials', 'time', 'and']\n"
     ]
    }
   ],
   "source": [
    "def duplicate_words(s1,s2):\n",
    "    lis = []\n",
    "    lis1 = []\n",
    "    lis2 = []\n",
    "    lis1 = s1.split()\n",
    "    lis2 = s2.split()\n",
    "    if len(lis1) > len(lis2):\n",
    "        a = len(lis1)\n",
    "    else:\n",
    "        a = len(lis2)\n",
    "    for i in range(a):\n",
    "        if lis1[i] in lis2:\n",
    "            lis.append(lis1[i])\n",
    "    return(lis)\n",
    "\n",
    "if __name__ == \"__main__\" :\n",
    "    inp1 = str(input(\"Enter your 1st string: \"))\n",
    "    print('###'*30)\n",
    "    inp2 = str(input(\"Enter your 2nd string: \"))\n",
    "    print('###'*30)\n",
    "    print(\"The common words from both the strings are as follows: \\n\\n\",duplicate_words(inp1,inp2))"
   ]
  },
  {
   "cell_type": "markdown",
   "id": "6e1f68dd",
   "metadata": {},
   "source": [
    "7. Write a Python Program to check if a string contains any special character?"
   ]
  },
  {
   "cell_type": "code",
   "execution_count": 38,
   "id": "2803c038",
   "metadata": {},
   "outputs": [
    {
     "name": "stdout",
     "output_type": "stream",
     "text": [
      "Enter your string: cdcboecoe%cjbdwo\n",
      "Whether the given string contains special characters:  True\n"
     ]
    }
   ],
   "source": [
    "import re\n",
    "\n",
    "def special(s):\n",
    "    \n",
    "    regex = re.compile('[@_!#$%^&*()<>?/\\|}{~:]')    \n",
    "    if(regex.search(s) == None):\n",
    "        return False\n",
    "          \n",
    "    else:\n",
    "        return True\n",
    "\n",
    "    \n",
    "s1 = str(input(\"Enter your string: \"))\n",
    "print(\"Whether the given string contains special characters: \",special(s1))"
   ]
  },
  {
   "cell_type": "code",
   "execution_count": null,
   "id": "eafc9576",
   "metadata": {},
   "outputs": [],
   "source": []
  }
 ],
 "metadata": {
  "kernelspec": {
   "display_name": "Python 3",
   "language": "python",
   "name": "python3"
  },
  "language_info": {
   "codemirror_mode": {
    "name": "ipython",
    "version": 3
   },
   "file_extension": ".py",
   "mimetype": "text/x-python",
   "name": "python",
   "nbconvert_exporter": "python",
   "pygments_lexer": "ipython3",
   "version": "3.9.4"
  }
 },
 "nbformat": 4,
 "nbformat_minor": 5
}
